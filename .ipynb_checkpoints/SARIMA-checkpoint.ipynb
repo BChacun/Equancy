{
 "cells": [
  {
   "cell_type": "code",
   "execution_count": 1,
   "id": "f57edb06",
   "metadata": {},
   "outputs": [],
   "source": [
    "# SARIMA :\n",
    "\n",
    "# IMPORTS :\n",
    "import numpy as np\n",
    "import matplotlib.pyplot as plt\n",
    "import pandas as pd"
   ]
  },
  {
   "cell_type": "code",
   "execution_count": 3,
   "id": "403b847a",
   "metadata": {},
   "outputs": [],
   "source": [
    "# DATABASE :\n",
    "\n",
    "data = pd.read_csv('DATABASE.txt', sep=\";\", header=None, na_values=['?'])\n",
    "\n",
    "data = data[:100]\n",
    "\n",
    "data = data.rename(columns=data.iloc[0]).drop(data.index[0])\n",
    "\n",
    "data[\"Time_index2\"] = data[\"Date\"] + \" \" + data[\"Time\"]\n",
    "\n",
    "data[\"timestamp\"] = pd.to_datetime(data['Time_index2'], format='%d/%m/%Y %H:%M:%S')\n",
    "data.set_index(['timestamp'],inplace=True)\n",
    "\n",
    "data[\"Global_active_power\"] = data[\"Global_active_power\"].astype(float)\n",
    "\n",
    "df = pd.DataFrame(data, columns=['Global_active_power'])\n",
    "\n",
    "df = df.rename(columns={'Global_active_power': 'Y'})\n",
    "\n",
    "\n",
    "series = df"
   ]
  },
  {
   "cell_type": "code",
   "execution_count": null,
   "id": "83a8286d",
   "metadata": {},
   "outputs": [],
   "source": []
  }
 ],
 "metadata": {
  "kernelspec": {
   "display_name": "Python 3",
   "language": "python",
   "name": "python3"
  },
  "language_info": {
   "codemirror_mode": {
    "name": "ipython",
    "version": 3
   },
   "file_extension": ".py",
   "mimetype": "text/x-python",
   "name": "python",
   "nbconvert_exporter": "python",
   "pygments_lexer": "ipython3",
   "version": "3.8.8"
  }
 },
 "nbformat": 4,
 "nbformat_minor": 5
}
