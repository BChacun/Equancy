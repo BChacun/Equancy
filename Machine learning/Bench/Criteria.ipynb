{
 "cells": [
  {
   "cell_type": "code",
   "execution_count": 1,
   "id": "8dc69114",
   "metadata": {},
   "outputs": [],
   "source": [
    "# Here, on the code, the different criteria for our Benchmark"
   ]
  },
  {
   "cell_type": "code",
   "execution_count": 1,
   "id": "171a882c",
   "metadata": {},
   "outputs": [
    {
     "data": {
      "text/plain": [
       "'\\n\\nfrom sklearn.metrics import mean_squared_error\\nfrom math import sqrt\\n\\nrms = sqrt(mean_squared_error(y_actual, y_predicted))\\n\\n'"
      ]
     },
     "execution_count": 1,
     "metadata": {},
     "output_type": "execute_result"
    }
   ],
   "source": [
    "# RMSE (Root mean squared error) :\n",
    "\n",
    "\"\"\"\n",
    "\n",
    "from sklearn.metrics import mean_squared_error\n",
    "from math import sqrt\n",
    "\n",
    "rms = sqrt(mean_squared_error(y_actual, y_predicted))\n",
    "\n",
    "\"\"\""
   ]
  },
  {
   "cell_type": "code",
   "execution_count": 2,
   "id": "66b1e01d",
   "metadata": {},
   "outputs": [
    {
     "data": {
      "text/plain": [
       "'\\nfrom sklearn.metrics import mean_absolute_error as mae\\n\\nmae(actual, pred)\\n'"
      ]
     },
     "execution_count": 2,
     "metadata": {},
     "output_type": "execute_result"
    }
   ],
   "source": [
    "# MAE (Mean absolute error):\n",
    "\n",
    "\"\"\"\n",
    "from sklearn.metrics import mean_absolute_error as mae\n",
    "\n",
    "mae(actual, pred)\n",
    "\"\"\""
   ]
  },
  {
   "cell_type": "code",
   "execution_count": null,
   "id": "ef5c0f4d",
   "metadata": {},
   "outputs": [],
   "source": [
    "# MAPE () :\n",
    "\n",
    "\"\"\"\n",
    "from sklearn.utils import check_arrays\n",
    "\n",
    "def mean_absolute_percentage_error(y_true, y_pred): \n",
    "    y_true, y_pred = check_arrays(y_true, y_pred)\n",
    "\n",
    "    return np.mean(np.abs((y_true - y_pred) / y_true)) * 100\n",
    "\"\"\"\n",
    "\n",
    "# Risque de divsion par 0"
   ]
  }
 ],
 "metadata": {
  "kernelspec": {
   "display_name": "Python 3",
   "language": "python",
   "name": "python3"
  },
  "language_info": {
   "codemirror_mode": {
    "name": "ipython",
    "version": 3
   },
   "file_extension": ".py",
   "mimetype": "text/x-python",
   "name": "python",
   "nbconvert_exporter": "python",
   "pygments_lexer": "ipython3",
   "version": "3.8.8"
  }
 },
 "nbformat": 4,
 "nbformat_minor": 5
}
