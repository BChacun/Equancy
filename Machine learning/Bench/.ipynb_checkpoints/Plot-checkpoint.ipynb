{
 "cells": [
  {
   "cell_type": "code",
   "execution_count": 1,
   "id": "8e9d5ca9",
   "metadata": {},
   "outputs": [],
   "source": [
    "# IMPORTS :\n",
    "\n",
    "import os\n",
    "import matplotlib.pyplot as plt"
   ]
  },
  {
   "cell_type": "code",
   "execution_count": null,
   "id": "e79242c5",
   "metadata": {},
   "outputs": [],
   "source": [
    "def affichage(name):\n",
    "    \n",
    "    adress = r\"C:\\Users\\bapti\\Documents\\Equancy\\Machine learning\\Bench\\1\"\n",
    "    adress = adress[:-1]\n",
    "    adress = adress + name\n",
    "    \n",
    "    outname_perso = name + \"_final.csv\"\n",
    "    \n",
    "    full_dir = os.path.join(adress, outname_perso)\n",
    "        \n",
    "    curr_data = pd.read_csv(full_dir)\n",
    "    \n",
    "    \n",
    "    \n",
    "    plt.figure(figsize=(10,6))\n",
    "    plt.plot(curr_data['Y'], color='blue', label='Actual')\n",
    "    plt.plot(curr_data['P'] , color='red', label='Predicted')\n",
    "    plt.title('EDF Prediction')\n",
    "    plt.xlabel('Date')\n",
    "    plt.ylabel('Global_active_power')\n",
    "    plt.legend()\n",
    "    plt.show()\n",
    "    \n",
    "    \n",
    "    plt.savefig('line_plot.pdf')  "
   ]
  }
 ],
 "metadata": {
  "kernelspec": {
   "display_name": "Python 3",
   "language": "python",
   "name": "python3"
  },
  "language_info": {
   "codemirror_mode": {
    "name": "ipython",
    "version": 3
   },
   "file_extension": ".py",
   "mimetype": "text/x-python",
   "name": "python",
   "nbconvert_exporter": "python",
   "pygments_lexer": "ipython3",
   "version": "3.8.8"
  }
 },
 "nbformat": 4,
 "nbformat_minor": 5
}
