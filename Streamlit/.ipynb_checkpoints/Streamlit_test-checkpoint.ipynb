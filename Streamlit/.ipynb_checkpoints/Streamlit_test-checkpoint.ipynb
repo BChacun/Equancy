{
 "cells": [
  {
   "cell_type": "code",
   "execution_count": 3,
   "id": "4ae3c712",
   "metadata": {},
   "outputs": [],
   "source": [
    "# IMPORTS :\n",
    "\n",
    "import streamlit as st\n",
    "import pandas as pd\n",
    "import numpy as np"
   ]
  },
  {
   "cell_type": "code",
   "execution_count": 4,
   "id": "615f5172",
   "metadata": {},
   "outputs": [
    {
     "name": "stderr",
     "output_type": "stream",
     "text": [
      "2021-10-15 15:45:50.497 \n",
      "  \u001b[33m\u001b[1mWarning:\u001b[0m to view this Streamlit app on a browser, run it with the following\n",
      "  command:\n",
      "\n",
      "    streamlit run C:\\Users\\bapti\\anaconda3\\lib\\site-packages\\ipykernel_launcher.py [ARGUMENTS]\n"
     ]
    },
    {
     "data": {
      "text/plain": [
       "DeltaGenerator(_root_container=0, _provided_cursor=None, _parent=None, _block_type=None, _form_data=None)"
      ]
     },
     "execution_count": 4,
     "metadata": {},
     "output_type": "execute_result"
    }
   ],
   "source": [
    "# App :\n",
    "\n",
    "st.title('Uber pickups in NYC')"
   ]
  },
  {
   "cell_type": "code",
   "execution_count": null,
   "id": "05c109e0",
   "metadata": {},
   "outputs": [],
   "source": [
    "# Run :\n",
    "\n",
    "streamlit run Streamlit_test.py"
   ]
  }
 ],
 "metadata": {
  "kernelspec": {
   "display_name": "Python 3",
   "language": "python",
   "name": "python3"
  },
  "language_info": {
   "codemirror_mode": {
    "name": "ipython",
    "version": 3
   },
   "file_extension": ".py",
   "mimetype": "text/x-python",
   "name": "python",
   "nbconvert_exporter": "python",
   "pygments_lexer": "ipython3",
   "version": "3.8.8"
  }
 },
 "nbformat": 4,
 "nbformat_minor": 5
}
