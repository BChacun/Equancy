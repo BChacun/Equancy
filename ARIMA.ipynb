{
 "cells": [
  {
   "cell_type": "code",
   "execution_count": 1,
   "id": "71a5089a",
   "metadata": {},
   "outputs": [
    {
     "name": "stderr",
     "output_type": "stream",
     "text": [
      "<ipython-input-1-a87bca50c490>:8: FutureWarning: The pandas.datetime class is deprecated and will be removed from pandas in a future version. Import from datetime module instead.\n",
      "  from pandas import datetime\n"
     ]
    }
   ],
   "source": [
    "# ARIMA :\n",
    "\n",
    "# IMPORTS :\n",
    "\n",
    "import numpy as np\n",
    "import matplotlib.pyplot as plt\n",
    "import pandas as pd\n",
    "from pandas import datetime\n",
    "from pandas import read_csv\n",
    "from pandas import DataFrame\n",
    "from statsmodels.tsa.arima.model import ARIMA\n",
    "from matplotlib import pyplot"
   ]
  },
  {
   "cell_type": "code",
   "execution_count": 2,
   "id": "ccc7932e",
   "metadata": {},
   "outputs": [
    {
     "name": "stderr",
     "output_type": "stream",
     "text": [
      "C:\\Users\\bapti\\anaconda3\\lib\\site-packages\\IPython\\core\\interactiveshell.py:3165: DtypeWarning: Columns (2,3,4,5,6,7,8) have mixed types.Specify dtype option on import or set low_memory=False.\n",
      "  has_raised = await self.run_ast_nodes(code_ast.body, cell_name,\n"
     ]
    }
   ],
   "source": [
    "# DATABASE :\n",
    "\n",
    "data = pd.read_csv('DATABASE.txt', sep=\";\", header=None, na_values=['?'])\n",
    "\n",
    "data = data[:100]\n",
    "\n",
    "data = data.rename(columns=data.iloc[0]).drop(data.index[0])\n",
    "\n",
    "data[\"Time_index2\"] = data[\"Date\"] + \" \" + data[\"Time\"]\n",
    "\n",
    "data[\"timestamp\"] = pd.to_datetime(data['Time_index2'], format='%d/%m/%Y %H:%M:%S')\n",
    "data.set_index(['timestamp'],inplace=True)\n",
    "\n",
    "data[\"Global_active_power\"] = data[\"Global_active_power\"].astype(float)\n",
    "\n",
    "df = pd.DataFrame(data, columns=['Global_active_power'])\n",
    "\n",
    "df = df.rename(columns={'Global_active_power': 'Y'})\n",
    "\n",
    "\n",
    "series = df"
   ]
  },
  {
   "cell_type": "code",
   "execution_count": 3,
   "id": "aaa0f2b3",
   "metadata": {},
   "outputs": [
    {
     "data": {
      "text/plain": [
       "\"\\n# fit model\\nmodel = ARIMA(series, order=(5,1,0))\\nmodel_fit = model.fit()\\n# summary of fit model\\nprint(model_fit.summary())\\n# line plot of residuals\\nresiduals = DataFrame(model_fit.resid)\\nresiduals.plot()\\npyplot.show()\\n# density plot of residuals\\nresiduals.plot(kind='kde')\\npyplot.show()\\n# summary stats of residuals\\nprint(residuals.describe())\\n\\n\""
      ]
     },
     "execution_count": 3,
     "metadata": {},
     "output_type": "execute_result"
    }
   ],
   "source": [
    "\"\"\"\n",
    "# fit model\n",
    "model = ARIMA(series, order=(5,1,0))\n",
    "model_fit = model.fit()\n",
    "# summary of fit model\n",
    "print(model_fit.summary())\n",
    "# line plot of residuals\n",
    "residuals = DataFrame(model_fit.resid)\n",
    "residuals.plot()\n",
    "pyplot.show()\n",
    "# density plot of residuals\n",
    "residuals.plot(kind='kde')\n",
    "pyplot.show()\n",
    "# summary stats of residuals\n",
    "print(residuals.describe())\n",
    "\n",
    "\"\"\""
   ]
  },
  {
   "cell_type": "code",
   "execution_count": 4,
   "id": "d871ad26",
   "metadata": {},
   "outputs": [
    {
     "name": "stderr",
     "output_type": "stream",
     "text": [
      "<ipython-input-4-ed61f489e6a0>:4: FutureWarning: The pandas.datetime class is deprecated and will be removed from pandas in a future version. Import from datetime module instead.\n",
      "  from pandas import datetime\n"
     ]
    },
    {
     "name": "stdout",
     "output_type": "stream",
     "text": [
      "predicted=2.378145, expected=2.920000\n",
      "predicted=2.814598, expected=2.930000\n",
      "predicted=3.144282, expected=2.912000\n",
      "predicted=3.252461, expected=2.608000\n",
      "predicted=2.917733, expected=2.714000\n",
      "predicted=2.830306, expected=3.538000\n",
      "predicted=3.746634, expected=6.072000\n",
      "predicted=6.686414, expected=4.536000\n",
      "predicted=3.838470, expected=4.408000\n",
      "predicted=4.103573, expected=2.912000\n",
      "predicted=2.461825, expected=2.326000\n",
      "predicted=2.048094, expected=2.264000\n",
      "predicted=2.919439, expected=2.270000\n",
      "predicted=2.643872, expected=2.258000\n",
      "predicted=2.644072, expected=2.188000\n",
      "predicted=2.292521, expected=2.978000\n",
      "predicted=3.113099, expected=4.200000\n",
      "predicted=4.350813, expected=4.204000\n",
      "predicted=3.991125, expected=4.218000\n",
      "predicted=3.915796, expected=2.786000\n",
      "predicted=2.217465, expected=2.540000\n",
      "predicted=2.374797, expected=2.496000\n",
      "predicted=2.764575, expected=2.336000\n",
      "predicted=2.584988, expected=2.322000\n",
      "predicted=2.634760, expected=2.448000\n",
      "predicted=2.546165, expected=4.298000\n",
      "predicted=4.613256, expected=4.230000\n",
      "predicted=4.100708, expected=4.230000\n",
      "predicted=3.887425, expected=3.924000\n",
      "predicted=3.584308, expected=4.218000\n",
      "predicted=3.942298, expected=4.224000\n",
      "predicted=4.273534, expected=4.070000\n",
      "predicted=4.035640, expected=3.612000\n",
      "predicted=3.568231, expected=3.458000\n",
      "Test RMSE: 0.791\n"
     ]
    },
    {
     "data": {
      "image/png": "[encoded data removed]",
      "text/plain": [
       "<Figure size 432x288 with 1 Axes>"
      ]
     },
     "metadata": {
      "needs_background": "light"
     },
     "output_type": "display_data"
    }
   ],
   "source": [
    "# evaluate an ARIMA model using a walk-forward validation\n",
    "\n",
    "from pandas import read_csv\n",
    "from pandas import datetime\n",
    "from matplotlib import pyplot\n",
    "from statsmodels.tsa.arima.model import ARIMA\n",
    "from sklearn.metrics import mean_squared_error\n",
    "from math import sqrt\n",
    "\n",
    "\n",
    "\n",
    "# split into train and test sets\n",
    "X = series.values\n",
    "size = int(len(X) * 0.66)\n",
    "train, test = X[0:size], X[size:len(X)]\n",
    "history = [x for x in train]\n",
    "predictions = list()\n",
    "\n",
    "\n",
    "# walk-forward validation\n",
    "for t in range(len(test)):\n",
    "\tmodel = ARIMA(history, order=(5,1,0))\n",
    "\tmodel_fit = model.fit()\n",
    "\toutput = model_fit.forecast()\n",
    "\tyhat = output[0]\n",
    "\tpredictions.append(yhat)\n",
    "\tobs = test[t]\n",
    "\thistory.append(obs)\n",
    "\tprint('predicted=%f, expected=%f' % (yhat, obs))\n",
    "    \n",
    "# evaluate forecasts\n",
    "rmse = sqrt(mean_squared_error(test, predictions))\n",
    "print('Test RMSE: %.3f' % rmse)\n",
    "\n",
    "# plot forecasts against actual outcomes\n",
    "pyplot.plot(test)\n",
    "pyplot.plot(predictions, color='red')\n",
    "pyplot.show()"
   ]
  }
 ],
 "metadata": {
  "kernelspec": {
   "display_name": "Python 3",
   "language": "python",
   "name": "python3"
  },
  "language_info": {
   "codemirror_mode": {
    "name": "ipython",
    "version": 3
   },
   "file_extension": ".py",
   "mimetype": "text/x-python",
   "name": "python",
   "nbconvert_exporter": "python",
   "pygments_lexer": "ipython3",
   "version": "3.8.8"
  }
 },
 "nbformat": 4,
 "nbformat_minor": 5
}
